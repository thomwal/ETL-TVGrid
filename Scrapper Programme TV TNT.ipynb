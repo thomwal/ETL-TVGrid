{
 "cells": [
  {
   "cell_type": "markdown",
   "metadata": {},
   "source": [
    "# TV Grid Scrapper\n",
    "Python Version 3.11.4  \n",
    "`pip install requests bs4`"
   ]
  },
  {
   "cell_type": "code",
   "execution_count": 126,
   "metadata": {},
   "outputs": [],
   "source": [
    "from requests import get as get_url\n",
    "from bs4 import BeautifulSoup\n",
    "from dataclasses import dataclass\n",
    "from json import dumps as json_dumps\n",
    "\n",
    "CAPTURE_URL = 'https://www.programme-tv.net/programme/programme-tnt.html'"
   ]
  },
  {
   "cell_type": "code",
   "execution_count": 127,
   "metadata": {},
   "outputs": [],
   "source": [
    "TVGRID_PAGE = get_url(CAPTURE_URL)\n",
    "soup = BeautifulSoup(TVGRID_PAGE.content, 'html.parser')\n",
    "TVGRID_RAW_BLOCKS = soup.select('.mainBroadcastCard-infos')"
   ]
  },
  {
   "cell_type": "code",
   "execution_count": 128,
   "metadata": {},
   "outputs": [],
   "source": [
    "@dataclass\n",
    "class Channel:\n",
    "    channel_number: str\n",
    "    channel_name: str\n",
    "\n",
    "channels = []\n",
    "\n",
    "for channel in soup.select('.gridRow-cardsChannelName'):\n",
    "    channel_number = channel.select_one('.sr-only').text.strip().replace('N°', '') # Numéro de la chaine\n",
    "    channel_name = channel.text.strip().replace(f'N°{channel_number}', '') # Description de la chaîne\n",
    "    channels.append(Channel(channel_number=channel_number, channel_name=channel_name))"
   ]
  },
  {
   "cell_type": "code",
   "execution_count": 129,
   "metadata": {},
   "outputs": [
    {
     "name": "stdout",
     "output_type": "stream",
     "text": [
      "[{\"startBroadcasting\": \"21h10\", \"title\": \"Ninja Warrior, le parcours des héros\", \"subtitle\": \"Face aux légendes 2\", \"duration_hours\": \"2\", \"duration_minutes\": \"25\", \"is_broadcast_new\": true, \"channel\": {\"channel_number\": \"1\", \"channel_name\": \"TF1\"}}, {\"startBroadcasting\": \"23h35\", \"title\": \"Vendredi, tout est permis avec Arthur\", \"subtitle\": null, \"duration_hours\": \"2\", \"duration_minutes\": \"\", \"is_broadcast_new\": true, \"channel\": {\"channel_number\": \"1\", \"channel_name\": \"TF1\"}}, {\"startBroadcasting\": \"21h05\", \"title\": \"Concert de Paris 2023\", \"subtitle\": null, \"duration_hours\": \"2\", \"duration_minutes\": \"30\", \"is_broadcast_new\": false, \"channel\": {\"channel_number\": \"2\", \"channel_name\": \"France 2\"}}, {\"startBroadcasting\": \"23h35\", \"title\": \"Drag Race France\", \"subtitle\": \"Moteur, dragtion !\", \"duration_hours\": \"1\", \"duration_minutes\": \"15\", \"is_broadcast_new\": true, \"channel\": {\"channel_number\": \"2\", \"channel_name\": \"France 2\"}}, {\"startBroadcasting\": \"21h10\", \"title\": \"Alexandra Ehle\", \"subtitle\": \"La peste\", \"duration_hours\": \"1\", \"duration_minutes\": \"30\", \"is_broadcast_new\": false, \"channel\": {\"channel_number\": \"3\", \"channel_name\": \"France 3\"}}, {\"startBroadcasting\": \"22h40\", \"title\": \"Alexandra Ehle\", \"subtitle\": \"Le miracle\", \"duration_hours\": \"1\", \"duration_minutes\": \"30\", \"is_broadcast_new\": false, \"channel\": {\"channel_number\": \"3\", \"channel_name\": \"France 3\"}}, {\"startBroadcasting\": \"21h09\", \"title\": \"Un talent en or massif\", \"subtitle\": null, \"duration_hours\": \"1\", \"duration_minutes\": \"45\", \"is_broadcast_new\": false, \"channel\": {\"channel_number\": \"4\", \"channel_name\": \"Canal+\"}}, {\"startBroadcasting\": \"22h54\", \"title\": \"Tirailleurs\", \"subtitle\": null, \"duration_hours\": \"1\", \"duration_minutes\": \"38\", \"is_broadcast_new\": false, \"channel\": {\"channel_number\": \"4\", \"channel_name\": \"Canal+\"}}, {\"startBroadcasting\": \"21h00\", \"title\": \"L'effrontée\", \"subtitle\": null, \"duration_hours\": \"1\", \"duration_minutes\": \"35\", \"is_broadcast_new\": false, \"channel\": {\"channel_number\": \"5\", \"channel_name\": \"France 5\"}}, {\"startBroadcasting\": \"22h35\", \"title\": \"C dans l'air\", \"subtitle\": null, \"duration_hours\": \"1\", \"duration_minutes\": \"05\", \"is_broadcast_new\": false, \"channel\": {\"channel_number\": \"5\", \"channel_name\": \"France 5\"}}, {\"startBroadcasting\": \"21h10\", \"title\": \"Alad'2\", \"subtitle\": null, \"duration_hours\": \"1\", \"duration_minutes\": \"45\", \"is_broadcast_new\": false, \"channel\": {\"channel_number\": \"6\", \"channel_name\": \"M6\"}}, {\"startBroadcasting\": \"22h55\", \"title\": \"L'incroyable embouteillage\", \"subtitle\": \"Episode 1\", \"duration_hours\": \"0\", \"duration_minutes\": \"55\", \"is_broadcast_new\": false, \"channel\": {\"channel_number\": \"6\", \"channel_name\": \"M6\"}}, {\"startBroadcasting\": \"20h55\", \"title\": \"Compromissions\", \"subtitle\": null, \"duration_hours\": \"1\", \"duration_minutes\": \"30\", \"is_broadcast_new\": false, \"channel\": {\"channel_number\": \"7\", \"channel_name\": \"Arte\"}}, {\"startBroadcasting\": \"22h25\", \"title\": \"Venus et Serena : Ces icônes que l'Amérique ne voulait pas voir\", \"subtitle\": null, \"duration_hours\": \"0\", \"duration_minutes\": \"55\", \"is_broadcast_new\": true, \"channel\": {\"channel_number\": \"7\", \"channel_name\": \"Arte\"}}, {\"startBroadcasting\": \"21h15\", \"title\": \"Vacances naturistes : vivre heureux sans se cacher\", \"subtitle\": null, \"duration_hours\": \"1\", \"duration_minutes\": \"36\", \"is_broadcast_new\": false, \"channel\": {\"channel_number\": \"8\", \"channel_name\": \"C8\"}}, {\"startBroadcasting\": \"23h02\", \"title\": \"Enquête sous haute tension\", \"subtitle\": \"Le quotidien chaud des policiers du Cap d'Agde (n°1)\", \"duration_hours\": \"1\", \"duration_minutes\": \"47\", \"is_broadcast_new\": false, \"channel\": {\"channel_number\": \"8\", \"channel_name\": \"C8\"}}, {\"startBroadcasting\": \"21h05\", \"title\": \"Enquête d'action\", \"subtitle\": \"Vols à main armée, agressions : les gendarmes de Gironde en action\", \"duration_hours\": \"1\", \"duration_minutes\": \"55\", \"is_broadcast_new\": false, \"channel\": {\"channel_number\": \"9\", \"channel_name\": \"W9\"}}, {\"startBroadcasting\": \"23h00\", \"title\": \"Enquête d'action\", \"subtitle\": \"Pompiers de Bretagne : une saison estivale sous tension\", \"duration_hours\": \"1\", \"duration_minutes\": \"\", \"is_broadcast_new\": true, \"channel\": {\"channel_number\": \"9\", \"channel_name\": \"W9\"}}, {\"startBroadcasting\": \"20h50\", \"title\": \"De l'autre côté du lit\", \"subtitle\": null, \"duration_hours\": \"1\", \"duration_minutes\": \"35\", \"is_broadcast_new\": false, \"channel\": {\"channel_number\": \"10\", \"channel_name\": \"TMC\"}}, {\"startBroadcasting\": \"22h25\", \"title\": \"LOL (Laughing Out Loud)\", \"subtitle\": null, \"duration_hours\": \"1\", \"duration_minutes\": \"55\", \"is_broadcast_new\": false, \"channel\": {\"channel_number\": \"10\", \"channel_name\": \"TMC\"}}, {\"startBroadcasting\": \"21h05\", \"title\": \"Incroyables mariages gitans\", \"subtitle\": \"Quand les jeunes filles deviennent les reines de la fête\", \"duration_hours\": \"1\", \"duration_minutes\": \"55\", \"is_broadcast_new\": false, \"channel\": {\"channel_number\": \"11\", \"channel_name\": \"TFX\"}}, {\"startBroadcasting\": \"23h00\", \"title\": \"Incroyables mariages gitans\", \"subtitle\": \"Toujours plus de surprises !\", \"duration_hours\": \"1\", \"duration_minutes\": \"50\", \"is_broadcast_new\": false, \"channel\": {\"channel_number\": \"11\", \"channel_name\": \"TFX\"}}, {\"startBroadcasting\": \"21h10\", \"title\": \"Sam\", \"subtitle\": \"Je serai, tu seras, elle sera\", \"duration_hours\": \"1\", \"duration_minutes\": \"\", \"is_broadcast_new\": false, \"channel\": {\"channel_number\": \"12\", \"channel_name\": \"NRJ 12\"}}, {\"startBroadcasting\": \"23h10\", \"title\": \"Sam\", \"subtitle\": \"Les mémoires\", \"duration_hours\": \"1\", \"duration_minutes\": \"05\", \"is_broadcast_new\": false, \"channel\": {\"channel_number\": \"12\", \"channel_name\": \"NRJ 12\"}}, {\"startBroadcasting\": \"21h02\", \"title\": \"Maman j'ai arrêté l'avion\", \"subtitle\": \"La faim du steak ?\", \"duration_hours\": \"0\", \"duration_minutes\": \"55\", \"is_broadcast_new\": false, \"channel\": {\"channel_number\": \"13\", \"channel_name\": \"La Chaîne parlementaire\"}}, {\"startBroadcasting\": \"22h00\", \"title\": \"La double vie de Saint-Germain-des-Prés\", \"subtitle\": null, \"duration_hours\": \"1\", \"duration_minutes\": \"\", \"is_broadcast_new\": false, \"channel\": {\"channel_number\": \"13\", \"channel_name\": \"La Chaîne parlementaire\"}}, {\"startBroadcasting\": \"21h10\", \"title\": \"Les Francofolies de La Rochelle\", \"subtitle\": \"Sopico\", \"duration_hours\": \"0\", \"duration_minutes\": \"50\", \"is_broadcast_new\": true, \"channel\": {\"channel_number\": \"14\", \"channel_name\": \"France 4\"}}, {\"startBroadcasting\": \"22h00\", \"title\": \"Les Francos dans tous les sens\", \"subtitle\": null, \"duration_hours\": \"0\", \"duration_minutes\": \"55\", \"is_broadcast_new\": true, \"channel\": {\"channel_number\": \"14\", \"channel_name\": \"France 4\"}}, {\"startBroadcasting\": \"20h30\", \"title\": \"7 Jours BFM\", \"subtitle\": null, \"duration_hours\": \"1\", \"duration_minutes\": \"30\", \"is_broadcast_new\": false, \"channel\": {\"channel_number\": \"15\", \"channel_name\": \"BFMTV\"}}, {\"startBroadcasting\": \"22h00\", \"title\": \"Week-end Direct\", \"subtitle\": null, \"duration_hours\": \"2\", \"duration_minutes\": \"\", \"is_broadcast_new\": false, \"channel\": {\"channel_number\": \"15\", \"channel_name\": \"BFMTV\"}}, {\"startBroadcasting\": \"19h59\", \"title\": \"L'Heure des Pros 2 Été\", \"subtitle\": \"L'Heure des Pros 2 Été\", \"duration_hours\": \"0\", \"duration_minutes\": \"59\", \"is_broadcast_new\": false, \"channel\": {\"channel_number\": \"16\", \"channel_name\": \"CNEWS\"}}, {\"startBroadcasting\": \"21h00\", \"title\": \"Soir Info\", \"subtitle\": \"Soir Info\", \"duration_hours\": \"2\", \"duration_minutes\": \"26\", \"is_broadcast_new\": false, \"channel\": {\"channel_number\": \"16\", \"channel_name\": \"CNEWS\"}}, {\"startBroadcasting\": \"21h17\", \"title\": \"William et Harry : de l'amour à la haine\", \"subtitle\": null, \"duration_hours\": \"1\", \"duration_minutes\": \"41\", \"is_broadcast_new\": false, \"channel\": {\"channel_number\": \"17\", \"channel_name\": \"CSTAR\"}}, {\"startBroadcasting\": \"22h58\", \"title\": \"Charles III : les secrets inavouables du nouveau roi\", \"subtitle\": \"Le prince charles : vies et secrets\", \"duration_hours\": \"1\", \"duration_minutes\": \"31\", \"is_broadcast_new\": false, \"channel\": {\"channel_number\": \"17\", \"channel_name\": \"CSTAR\"}}, {\"startBroadcasting\": \"21h00\", \"title\": \"La ballade des Dalton\", \"subtitle\": null, \"duration_hours\": \"1\", \"duration_minutes\": \"27\", \"is_broadcast_new\": false, \"channel\": {\"channel_number\": \"18\", \"channel_name\": \"Gulli\"}}, {\"startBroadcasting\": \"22h27\", \"title\": \"Daisy Town\", \"subtitle\": null, \"duration_hours\": \"1\", \"duration_minutes\": \"23\", \"is_broadcast_new\": false, \"channel\": {\"channel_number\": \"18\", \"channel_name\": \"Gulli\"}}, {\"startBroadcasting\": \"20h55\", \"title\": \"King Guillaume\", \"subtitle\": null, \"duration_hours\": \"1\", \"duration_minutes\": \"30\", \"is_broadcast_new\": false, \"channel\": {\"channel_number\": \"20\", \"channel_name\": \"TF1 Séries Films\"}}, {\"startBroadcasting\": \"22h25\", \"title\": \"La croisière\", \"subtitle\": null, \"duration_hours\": \"1\", \"duration_minutes\": \"55\", \"is_broadcast_new\": false, \"channel\": {\"channel_number\": \"20\", \"channel_name\": \"TF1 Séries Films\"}}, {\"startBroadcasting\": \"18h53\", \"title\": \"France / Irlande\", \"subtitle\": \"Rugby. Coupe du monde U20. Finale.\", \"duration_hours\": \"2\", \"duration_minutes\": \"32\", \"is_broadcast_new\": false, \"channel\": {\"channel_number\": \"21\", \"channel_name\": \"L'Equipe\"}}, {\"startBroadcasting\": \"21h25\", \"title\": \"Para-athlétisme : Championnats du monde\", \"subtitle\": \"Championnats du monde. 6e jour.\", \"duration_hours\": \"2\", \"duration_minutes\": \"35\", \"is_broadcast_new\": false, \"channel\": {\"channel_number\": \"21\", \"channel_name\": \"L'Equipe\"}}, {\"startBroadcasting\": \"21h05\", \"title\": \"Hawaii 5-0\", \"subtitle\": \"Ho'i Hou\", \"duration_hours\": \"0\", \"duration_minutes\": \"55\", \"is_broadcast_new\": false, \"channel\": {\"channel_number\": \"22\", \"channel_name\": \"6ter\"}}, {\"startBroadcasting\": \"22h50\", \"title\": \"Hawaii 5-0\", \"subtitle\": \"Hoku Welowelo\", \"duration_hours\": \"0\", \"duration_minutes\": \"50\", \"is_broadcast_new\": false, \"channel\": {\"channel_number\": \"22\", \"channel_name\": \"6ter\"}}, {\"startBroadcasting\": \"21h10\", \"title\": \"Au coeur de la communauté de Roms de Marseille\", \"subtitle\": null, \"duration_hours\": \"1\", \"duration_minutes\": \"20\", \"is_broadcast_new\": true, \"channel\": {\"channel_number\": \"23\", \"channel_name\": \"RMC Story\"}}, {\"startBroadcasting\": \"22h30\", \"title\": \"Gitans, manouches, tsiganes : leur vraie vie\", \"subtitle\": \"La famille avant tout\", \"duration_hours\": \"1\", \"duration_minutes\": \"25\", \"is_broadcast_new\": false, \"channel\": {\"channel_number\": \"23\", \"channel_name\": \"RMC Story\"}}, {\"startBroadcasting\": \"21h10\", \"title\": \"J'irai dormir en Amérique\", \"subtitle\": \"Episode 5\", \"duration_hours\": \"0\", \"duration_minutes\": \"30\", \"is_broadcast_new\": false, \"channel\": {\"channel_number\": \"24\", \"channel_name\": \"RMC Découverte\"}}, {\"startBroadcasting\": \"22h15\", \"title\": \"J'irai dormir en Amérique\", \"subtitle\": \"Episode 7\", \"duration_hours\": \"0\", \"duration_minutes\": \"30\", \"is_broadcast_new\": false, \"channel\": {\"channel_number\": \"24\", \"channel_name\": \"RMC Découverte\"}}, {\"startBroadcasting\": \"21h05\", \"title\": \"Châteaux XXL : le défi d'une vie\", \"subtitle\": \"Episode 13\", \"duration_hours\": \"0\", \"duration_minutes\": \"55\", \"is_broadcast_new\": true, \"channel\": {\"channel_number\": \"25\", \"channel_name\": \"Chérie 25\"}}, {\"startBroadcasting\": \"22h55\", \"title\": \"Châteaux XXL : le défi d'une vie\", \"subtitle\": \"Episode 15\", \"duration_hours\": \"0\", \"duration_minutes\": \"55\", \"is_broadcast_new\": true, \"channel\": {\"channel_number\": \"25\", \"channel_name\": \"Chérie 25\"}}, {\"startBroadcasting\": \"20h00\", \"title\": \"Le 20H Darius Rochebin\", \"subtitle\": null, \"duration_hours\": \"2\", \"duration_minutes\": \"\", \"is_broadcast_new\": false, \"channel\": {\"channel_number\": \"26\", \"channel_name\": \"LCI - La Chaîne Info\"}}, {\"startBroadcasting\": \"22h00\", \"title\": \"22H Darius Rochebin\", \"subtitle\": null, \"duration_hours\": \"2\", \"duration_minutes\": \"\", \"is_broadcast_new\": false, \"channel\": {\"channel_number\": \"26\", \"channel_name\": \"LCI - La Chaîne Info\"}}, {\"startBroadcasting\": \"20h47\", \"title\": \"Le fil info\", \"subtitle\": null, \"duration_hours\": \"2\", \"duration_minutes\": \"12\", \"is_broadcast_new\": false, \"channel\": {\"channel_number\": \"27\", \"channel_name\": \"Franceinfo\"}}, {\"startBroadcasting\": \"22h59\", \"title\": \"Le 23h\", \"subtitle\": null, \"duration_hours\": \"0\", \"duration_minutes\": \"30\", \"is_broadcast_new\": false, \"channel\": {\"channel_number\": \"27\", \"channel_name\": \"Franceinfo\"}}, {\"startBroadcasting\": \"21h00\", \"title\": \"La chute de l'Empire romain\", \"subtitle\": null, \"duration_hours\": \"3\", \"duration_minutes\": \"10\", \"is_broadcast_new\": false, \"channel\": {\"channel_number\": \"41\", \"channel_name\": \"Paris Première\"}}, {\"startBroadcasting\": \"00h10\", \"title\": \"Le retour de Chucky\", \"subtitle\": null, \"duration_hours\": \"1\", \"duration_minutes\": \"40\", \"is_broadcast_new\": false, \"channel\": {\"channel_number\": \"41\", \"channel_name\": \"Paris Première\"}}, {\"startBroadcasting\": \"21h00\", \"title\": \"Finale Top 14 Made by Canal\", \"subtitle\": \"Toulouse - La Rochelle\", \"duration_hours\": \"2\", \"duration_minutes\": \"01\", \"is_broadcast_new\": false, \"channel\": {\"channel_number\": \"42\", \"channel_name\": \"Canal+ Sport\"}}, {\"startBroadcasting\": \"23h01\", \"title\": \"Golf : Open de Nicholasville\", \"subtitle\": \"Open de Nicholasville. 2e tour. Circuit américain.\", \"duration_hours\": \"1\", \"duration_minutes\": \"58\", \"is_broadcast_new\": false, \"channel\": {\"channel_number\": \"42\", \"channel_name\": \"Canal+ Sport\"}}, {\"startBroadcasting\": \"20h58\", \"title\": \"Corsage\", \"subtitle\": null, \"duration_hours\": \"1\", \"duration_minutes\": \"50\", \"is_broadcast_new\": false, \"channel\": {\"channel_number\": \"43\", \"channel_name\": \"Canal+ Cinéma\"}}, {\"startBroadcasting\": \"22h48\", \"title\": \"Joyland\", \"subtitle\": null, \"duration_hours\": \"2\", \"duration_minutes\": \"03\", \"is_broadcast_new\": false, \"channel\": {\"channel_number\": \"43\", \"channel_name\": \"Canal+ Cinéma\"}}, {\"startBroadcasting\": \"20h55\", \"title\": \"Pour l'honneur\", \"subtitle\": null, \"duration_hours\": \"0\", \"duration_minutes\": \"57\", \"is_broadcast_new\": false, \"channel\": {\"channel_number\": \"45\", \"channel_name\": \"Planète+\"}}, {\"startBroadcasting\": \"22h45\", \"title\": \"Faites entrer l'accusé\", \"subtitle\": \"Les petites économies de Claude Clément\", \"duration_hours\": \"1\", \"duration_minutes\": \"30\", \"is_broadcast_new\": false, \"channel\": {\"channel_number\": \"45\", \"channel_name\": \"Planète+\"}}]\n"
     ]
    }
   ],
   "source": [
    "@dataclass\n",
    "class Program:\n",
    "    startBroadcasting: str\n",
    "    title: str\n",
    "    subtitle: str\n",
    "    duration_hours: str\n",
    "    duration_minutes: str\n",
    "    is_broadcast_new: bool\n",
    "    channel: Channel\n",
    "\n",
    "programs = []\n",
    "\n",
    "channel_counter = 0\n",
    "for programme in TVGRID_RAW_BLOCKS:\n",
    "    startBroadcasting = programme.select_one('.mainBroadcastCard-startingHour')\n",
    "    if startBroadcasting:\n",
    "        startBroadcasting = startBroadcasting.text.strip()\n",
    "\n",
    "    title = programme.select_one('.mainBroadcastCard-title')\n",
    "    if title:\n",
    "        title = title.text.strip()\n",
    "\n",
    "    subtitle = programme.select_one('.mainBroadcastCard-subtitle')\n",
    "    if subtitle:\n",
    "        subtitle = subtitle.text.strip()\n",
    "\n",
    "    duration = programme.select_one('.mainBroadcastCard-durationContent')\n",
    "    if duration:\n",
    "        duration = duration.text.strip()\n",
    "        duration = duration.replace('min', '')\n",
    "        if (duration.count('h')):\n",
    "            duration_hours = duration.split('h')[0]\n",
    "            duration_minutes = duration.split('h')[1]\n",
    "        else:\n",
    "            duration_hours = '0'\n",
    "            duration_minutes = duration\n",
    "    \n",
    "    broadcast_new = programme.select_one('.mainBroadcastCard-new')\n",
    "    if broadcast_new:\n",
    "        broadcast_new = broadcast_new.text.strip()\n",
    "        if broadcast_new == 'Inédit':\n",
    "            is_broadcast_new = True\n",
    "        else:\n",
    "            is_broadcast_new = False\n",
    "    else:\n",
    "        is_broadcast_new = False\n",
    "\n",
    "    programs.append(Program(startBroadcasting=startBroadcasting,\n",
    "                            title=title,\n",
    "                            subtitle=subtitle,\n",
    "                            duration_hours=duration_hours,\n",
    "                            duration_minutes=duration_minutes,\n",
    "                            is_broadcast_new=is_broadcast_new,\n",
    "                            channel=channels[int(channel_counter)]))\n",
    "    channel_counter += 0.5\n",
    "\n",
    "dump = json_dumps(programs, default=lambda o: o.__dict__, ensure_ascii=False)\n",
    "print(dump)"
   ]
  }
 ],
 "metadata": {
  "kernelspec": {
   "display_name": "Python 3",
   "language": "python",
   "name": "python3"
  },
  "language_info": {
   "codemirror_mode": {
    "name": "ipython",
    "version": 3
   },
   "file_extension": ".py",
   "mimetype": "text/x-python",
   "name": "python",
   "nbconvert_exporter": "python",
   "pygments_lexer": "ipython3",
   "version": "3.11.4"
  },
  "orig_nbformat": 4
 },
 "nbformat": 4,
 "nbformat_minor": 2
}
