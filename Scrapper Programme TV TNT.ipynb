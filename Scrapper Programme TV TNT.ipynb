{
 "cells": [
  {
   "cell_type": "markdown",
   "metadata": {},
   "source": [
    "# TV Grid Scrapper\n",
    "Python Version 3.11.4  \n",
    "`pip install requests bs4`"
   ]
  },
  {
   "cell_type": "code",
   "execution_count": 86,
   "metadata": {},
   "outputs": [],
   "source": [
    "from requests import get as get_url\n",
    "from bs4 import BeautifulSoup\n",
    "from dataclasses import dataclass\n",
    "from json import dumps as json_dumps\n",
    "from IPython.core.display import display_json, display_html\n",
    "\n",
    "CAPTURE_URL = 'https://www.programme-tv.net/programme/programme-tnt.html'"
   ]
  },
  {
   "cell_type": "code",
   "execution_count": 87,
   "metadata": {},
   "outputs": [],
   "source": [
    "TVGRID_PAGE = get_url(CAPTURE_URL)\n",
    "soup = BeautifulSoup(TVGRID_PAGE.content, 'html.parser')\n",
    "TVGRID_RAW_BLOCKS = soup.select('.mainBroadcastCard-infos')"
   ]
  },
  {
   "cell_type": "code",
   "execution_count": 88,
   "metadata": {},
   "outputs": [],
   "source": [
    "@dataclass\n",
    "class Channel:\n",
    "    channel_number: str\n",
    "    channel_name: str\n",
    "\n",
    "channels = []\n",
    "\n",
    "for channel in soup.select('.gridRow-cardsChannelName'):\n",
    "    channel_number = channel.select_one('.sr-only').text.strip().replace('N°', '') # Numéro de la chaine\n",
    "    channel_name = channel.text.strip().replace(f'N°{channel_number}', '') # Description de la chaîne\n",
    "    channels.append(Channel(channel_number=channel_number, channel_name=channel_name))"
   ]
  },
  {
   "cell_type": "markdown",
   "metadata": {},
   "source": [
    "## Render data as JSON"
   ]
  },
  {
   "cell_type": "code",
   "execution_count": 89,
   "metadata": {},
   "outputs": [
    {
     "data": {
      "application/json": [
       {
        "channel": {
         "channel_name": "TF1",
         "channel_number": "1"
        },
        "duration_hours": "2",
        "duration_minutes": "30",
        "is_broadcast_new": true,
        "startBroadcasting": "21h10",
        "subtitle": "La saga des jeux TV",
        "title": "30 ans d'émissions cultes"
       },
       {
        "channel": {
         "channel_name": "TF1",
         "channel_number": "1"
        },
        "duration_hours": "2",
        "duration_minutes": "10",
        "is_broadcast_new": false,
        "startBroadcasting": "23h40",
        "subtitle": "Les plus grands fous rires de la télé",
        "title": "30 ans d'émissions cultes"
       },
       {
        "channel": {
         "channel_name": "France 2",
         "channel_number": "2"
        },
        "duration_hours": "2",
        "duration_minutes": "10",
        "is_broadcast_new": true,
        "startBroadcasting": "21h10",
        "subtitle": null,
        "title": "Fort Boyard"
       },
       {
        "channel": {
         "channel_name": "France 2",
         "channel_number": "2"
        },
        "duration_hours": "0",
        "duration_minutes": "59",
        "is_broadcast_new": false,
        "startBroadcasting": "23h20",
        "subtitle": null,
        "title": "Fort Boyard : toujours plus fort !"
       },
       {
        "channel": {
         "channel_name": "France 3",
         "channel_number": "3"
        },
        "duration_hours": "1",
        "duration_minutes": "35",
        "is_broadcast_new": false,
        "startBroadcasting": "21h10",
        "subtitle": "Un loup dans la bergerie",
        "title": "Police de caractères"
       },
       {
        "channel": {
         "channel_name": "France 3",
         "channel_number": "3"
        },
        "duration_hours": "1",
        "duration_minutes": "35",
        "is_broadcast_new": false,
        "startBroadcasting": "22h45",
        "subtitle": "Meurtres à Blois",
        "title": "Meurtres à..."
       },
       {
        "channel": {
         "channel_name": "Canal+",
         "channel_number": "4"
        },
        "duration_hours": "1",
        "duration_minutes": "26",
        "is_broadcast_new": false,
        "startBroadcasting": "21h05",
        "subtitle": null,
        "title": "Maestro(s)"
       },
       {
        "channel": {
         "channel_name": "Canal+",
         "channel_number": "4"
        },
        "duration_hours": "1",
        "duration_minutes": "39",
        "is_broadcast_new": false,
        "startBroadcasting": "22h31",
        "subtitle": null,
        "title": "Le Parfum vert"
       },
       {
        "channel": {
         "channel_name": "France 5",
         "channel_number": "5"
        },
        "duration_hours": "1",
        "duration_minutes": "35",
        "is_broadcast_new": false,
        "startBroadcasting": "21h00",
        "subtitle": "Sur les sentiers varois",
        "title": "Echappées belles"
       },
       {
        "channel": {
         "channel_name": "France 5",
         "channel_number": "5"
        },
        "duration_hours": "1",
        "duration_minutes": "30",
        "is_broadcast_new": false,
        "startBroadcasting": "22h35",
        "subtitle": "Spéciale Martinique gourmande",
        "title": "Echappées belles"
       },
       {
        "channel": {
         "channel_name": "M6",
         "channel_number": "6"
        },
        "duration_hours": "0",
        "duration_minutes": "45",
        "is_broadcast_new": true,
        "startBroadcasting": "21h10",
        "subtitle": "Echange de prisonniers",
        "title": "NCIS"
       },
       {
        "channel": {
         "channel_name": "M6",
         "channel_number": "6"
        },
        "duration_hours": "0",
        "duration_minutes": "55",
        "is_broadcast_new": false,
        "startBroadcasting": "21h55",
        "subtitle": "Croisière d'enfer",
        "title": "NCIS"
       },
       {
        "channel": {
         "channel_name": "Arte",
         "channel_number": "7"
        },
        "duration_hours": "0",
        "duration_minutes": "45",
        "is_broadcast_new": true,
        "startBroadcasting": "20h50",
        "subtitle": "Luttes de pouvoir",
        "title": "Serengeti, la grande cavalcade des animaux"
       },
       {
        "channel": {
         "channel_name": "Arte",
         "channel_number": "7"
        },
        "duration_hours": "0",
        "duration_minutes": "55",
        "is_broadcast_new": false,
        "startBroadcasting": "23h05",
        "subtitle": null,
        "title": "Secrets de chats"
       },
       {
        "channel": {
         "channel_name": "C8",
         "channel_number": "8"
        },
        "duration_hours": "1",
        "duration_minutes": "42",
        "is_broadcast_new": false,
        "startBroadcasting": "21h10",
        "subtitle": null,
        "title": "Compromis"
       },
       {
        "channel": {
         "channel_name": "C8",
         "channel_number": "8"
        },
        "duration_hours": "1",
        "duration_minutes": "35",
        "is_broadcast_new": false,
        "startBroadcasting": "22h52",
        "subtitle": null,
        "title": "Amis"
       },
       {
        "channel": {
         "channel_name": "W9",
         "channel_number": "9"
        },
        "duration_hours": "1",
        "duration_minutes": "55",
        "is_broadcast_new": false,
        "startBroadcasting": "21h05",
        "subtitle": null,
        "title": "La petite histoire de France"
       },
       {
        "channel": {
         "channel_name": "W9",
         "channel_number": "9"
        },
        "duration_hours": "1",
        "duration_minutes": "45",
        "is_broadcast_new": false,
        "startBroadcasting": "23h00",
        "subtitle": null,
        "title": "La petite histoire de France"
       },
       {
        "channel": {
         "channel_name": "TMC",
         "channel_number": "10"
        },
        "duration_hours": "1",
        "duration_minutes": "30",
        "is_broadcast_new": false,
        "startBroadcasting": "20h55",
        "subtitle": "Une ville fatale",
        "title": "Columbo"
       },
       {
        "channel": {
         "channel_name": "TMC",
         "channel_number": "10"
        },
        "duration_hours": "1",
        "duration_minutes": "50",
        "is_broadcast_new": false,
        "startBroadcasting": "22h25",
        "subtitle": null,
        "title": "Le transporteur : l'héritage"
       },
       {
        "channel": {
         "channel_name": "TFX",
         "channel_number": "11"
        },
        "duration_hours": "1",
        "duration_minutes": "45",
        "is_broadcast_new": false,
        "startBroadcasting": "21h05",
        "subtitle": null,
        "title": "Chroniques criminelles"
       },
       {
        "channel": {
         "channel_name": "TFX",
         "channel_number": "11"
        },
        "duration_hours": "1",
        "duration_minutes": "55",
        "is_broadcast_new": false,
        "startBroadcasting": "22h50",
        "subtitle": null,
        "title": "Chroniques criminelles"
       },
       {
        "channel": {
         "channel_name": "NRJ 12",
         "channel_number": "12"
        },
        "duration_hours": "0",
        "duration_minutes": "30",
        "is_broadcast_new": false,
        "startBroadcasting": "21h10",
        "subtitle": "La Conjecture du Batbocal",
        "title": "Big Bang Theory"
       },
       {
        "channel": {
         "channel_name": "NRJ 12",
         "channel_number": "12"
        },
        "duration_hours": "0",
        "duration_minutes": "30",
        "is_broadcast_new": false,
        "startBroadcasting": "22h30",
        "subtitle": "Réaction !",
        "title": "Big Bang Theory"
       },
       {
        "channel": {
         "channel_name": "La Chaîne parlementaire",
         "channel_number": "13"
        },
        "duration_hours": "1",
        "duration_minutes": "58",
        "is_broadcast_new": false,
        "startBroadcasting": "21h00",
        "subtitle": null,
        "title": "L'odyssée des plages"
       },
       {
        "channel": {
         "channel_name": "La Chaîne parlementaire",
         "channel_number": "13"
        },
        "duration_hours": "1",
        "duration_minutes": "32",
        "is_broadcast_new": false,
        "startBroadcasting": "22h58",
        "subtitle": null,
        "title": "Corée du Nord, un plan pour survivre"
       },
       {
        "channel": {
         "channel_name": "France 4",
         "channel_number": "14"
        },
        "duration_hours": "1",
        "duration_minutes": "35",
        "is_broadcast_new": false,
        "startBroadcasting": "21h10",
        "subtitle": null,
        "title": "Le Requiem de Verdi"
       },
       {
        "channel": {
         "channel_name": "France 4",
         "channel_number": "14"
        },
        "duration_hours": "1",
        "duration_minutes": "09",
        "is_broadcast_new": false,
        "startBroadcasting": "22h45",
        "subtitle": null,
        "title": "Carmina Burana"
       },
       {
        "channel": {
         "channel_name": "BFMTV",
         "channel_number": "15"
        },
        "duration_hours": "2",
        "duration_minutes": "0",
        "is_broadcast_new": false,
        "startBroadcasting": "20h00",
        "subtitle": null,
        "title": "7 Jours BFM"
       },
       {
        "channel": {
         "channel_name": "BFMTV",
         "channel_number": "15"
        },
        "duration_hours": "2",
        "duration_minutes": "0",
        "is_broadcast_new": false,
        "startBroadcasting": "22h00",
        "subtitle": null,
        "title": "Week-end Direct"
       },
       {
        "channel": {
         "channel_name": "CNEWS",
         "channel_number": "16"
        },
        "duration_hours": "2",
        "duration_minutes": "28",
        "is_broadcast_new": false,
        "startBroadcasting": "20h59",
        "subtitle": "Soir Info",
        "title": "Soir Info"
       },
       {
        "channel": {
         "channel_name": "CNEWS",
         "channel_number": "16"
        },
        "duration_hours": "0",
        "duration_minutes": "28",
        "is_broadcast_new": false,
        "startBroadcasting": "23h29",
        "subtitle": null,
        "title": "Journal"
       },
       {
        "channel": {
         "channel_name": "CSTAR",
         "channel_number": "17"
        },
        "duration_hours": "1",
        "duration_minutes": "35",
        "is_broadcast_new": false,
        "startBroadcasting": "21h10",
        "subtitle": "Episode 20",
        "title": "Enquêtes paranormales"
       },
       {
        "channel": {
         "channel_name": "CSTAR",
         "channel_number": "17"
        },
        "duration_hours": "1",
        "duration_minutes": "25",
        "is_broadcast_new": false,
        "startBroadcasting": "22h45",
        "subtitle": "Episode 16",
        "title": "Enquêtes paranormales"
       },
       {
        "channel": {
         "channel_name": "Gulli",
         "channel_number": "18"
        },
        "duration_hours": "0",
        "duration_minutes": "55",
        "is_broadcast_new": false,
        "startBroadcasting": "21h05",
        "subtitle": "Vers de terre et bubble tea",
        "title": "Total Wipeout Made In USA"
       },
       {
        "channel": {
         "channel_name": "Gulli",
         "channel_number": "18"
        },
        "duration_hours": "0",
        "duration_minutes": "50",
        "is_broadcast_new": false,
        "startBroadcasting": "22h00",
        "subtitle": "Ouvrez le dico !",
        "title": "Total Wipeout Made In USA"
       },
       {
        "channel": {
         "channel_name": "TF1 Séries Films",
         "channel_number": "20"
        },
        "duration_hours": "2",
        "duration_minutes": "05",
        "is_broadcast_new": false,
        "startBroadcasting": "21h00",
        "subtitle": "Joséphine fait de la résistance",
        "title": "Joséphine, ange gardien"
       },
       {
        "channel": {
         "channel_name": "TF1 Séries Films",
         "channel_number": "20"
        },
        "duration_hours": "2",
        "duration_minutes": "0",
        "is_broadcast_new": false,
        "startBroadcasting": "23h05",
        "subtitle": "Suivez le guide",
        "title": "Joséphine, ange gardien"
       },
       {
        "channel": {
         "channel_name": "L'Equipe",
         "channel_number": "21"
        },
        "duration_hours": "3",
        "duration_minutes": "30",
        "is_broadcast_new": false,
        "startBroadcasting": "18h05",
        "subtitle": "Championnats du monde. 7e jour.",
        "title": "Para-athlétisme : Championnats du monde"
       },
       {
        "channel": {
         "channel_name": "L'Equipe",
         "channel_number": "21"
        },
        "duration_hours": "1",
        "duration_minutes": "50",
        "is_broadcast_new": false,
        "startBroadcasting": "21h35",
        "subtitle": "5e à 8e manches.",
        "title": "Monster Jam"
       },
       {
        "channel": {
         "channel_name": "6ter",
         "channel_number": "22"
        },
        "duration_hours": "2",
        "duration_minutes": "15",
        "is_broadcast_new": false,
        "startBroadcasting": "21h05",
        "subtitle": "Porto : au cœur du camping le moins cher de Corse !",
        "title": "Vive le camping"
       },
       {
        "channel": {
         "channel_name": "6ter",
         "channel_number": "22"
        },
        "duration_hours": "2",
        "duration_minutes": "0",
        "is_broadcast_new": false,
        "startBroadcasting": "23h20",
        "subtitle": "Chez les Ch'tis",
        "title": "Vive le camping"
       },
       {
        "channel": {
         "channel_name": "RMC Story",
         "channel_number": "23"
        },
        "duration_hours": "0",
        "duration_minutes": "55",
        "is_broadcast_new": false,
        "startBroadcasting": "21h10",
        "subtitle": "Piqués par la jungle",
        "title": "Retour à l'instinct primaire"
       },
       {
        "channel": {
         "channel_name": "RMC Story",
         "channel_number": "23"
        },
        "duration_hours": "0",
        "duration_minutes": "55",
        "is_broadcast_new": false,
        "startBroadcasting": "22h05",
        "subtitle": "Coup de chaleur au Mexique",
        "title": "Retour à l'instinct primaire"
       },
       {
        "channel": {
         "channel_name": "RMC Découverte",
         "channel_number": "24"
        },
        "duration_hours": "0",
        "duration_minutes": "57",
        "is_broadcast_new": false,
        "startBroadcasting": "21h10",
        "subtitle": null,
        "title": "Europapark : la techno des manèges à sensation"
       },
       {
        "channel": {
         "channel_name": "RMC Découverte",
         "channel_number": "24"
        },
        "duration_hours": "0",
        "duration_minutes": "56",
        "is_broadcast_new": false,
        "startBroadcasting": "22h07",
        "subtitle": null,
        "title": "Roller Coaster : une technologie à sensations"
       },
       {
        "channel": {
         "channel_name": "Chérie 25",
         "channel_number": "25"
        },
        "duration_hours": "1",
        "duration_minutes": "55",
        "is_broadcast_new": false,
        "startBroadcasting": "21h05",
        "subtitle": null,
        "title": "Jeanne Poisson, marquise de Pompadour"
       },
       {
        "channel": {
         "channel_name": "Chérie 25",
         "channel_number": "25"
        },
        "duration_hours": "1",
        "duration_minutes": "40",
        "is_broadcast_new": false,
        "startBroadcasting": "23h00",
        "subtitle": "Spéciale Saint-Valentin : de l'amour à la guerre",
        "title": "Héritages"
       },
       {
        "channel": {
         "channel_name": "LCI - La Chaîne Info",
         "channel_number": "26"
        },
        "duration_hours": "2",
        "duration_minutes": "0",
        "is_broadcast_new": false,
        "startBroadcasting": "20h00",
        "subtitle": null,
        "title": "Le 20H Darius Rochebin"
       },
       {
        "channel": {
         "channel_name": "LCI - La Chaîne Info",
         "channel_number": "26"
        },
        "duration_hours": "2",
        "duration_minutes": "0",
        "is_broadcast_new": false,
        "startBroadcasting": "22h00",
        "subtitle": null,
        "title": "22H Darius Rochebin"
       },
       {
        "channel": {
         "channel_name": "Franceinfo",
         "channel_number": "27"
        },
        "duration_hours": "0",
        "duration_minutes": "26",
        "is_broadcast_new": false,
        "startBroadcasting": "20h03",
        "subtitle": null,
        "title": "Le doc de l'info"
       },
       {
        "channel": {
         "channel_name": "Franceinfo",
         "channel_number": "27"
        },
        "duration_hours": "0",
        "duration_minutes": "12",
        "is_broadcast_new": false,
        "startBroadcasting": "20h35",
        "subtitle": null,
        "title": "Tour de France 2023"
       },
       {
        "channel": {
         "channel_name": "Paris Première",
         "channel_number": "41"
        },
        "duration_hours": "2",
        "duration_minutes": "10",
        "is_broadcast_new": false,
        "startBroadcasting": "21h00",
        "subtitle": null,
        "title": "Michaël Gregorio : j'ai 10 ans"
       },
       {
        "channel": {
         "channel_name": "Paris Première",
         "channel_number": "41"
        },
        "duration_hours": "2",
        "duration_minutes": "05",
        "is_broadcast_new": false,
        "startBroadcasting": "23h10",
        "subtitle": null,
        "title": "Michaël Gregorio pirate les chanteurs"
       },
       {
        "channel": {
         "channel_name": "Canal+ Sport",
         "channel_number": "42"
        },
        "duration_hours": "1",
        "duration_minutes": "36",
        "is_broadcast_new": false,
        "startBroadcasting": "20h45",
        "subtitle": "Grand Prix de Toronto. Essais qualificatifs. IndyCar Series.",
        "title": "IndyCar Series : Grand Prix de Toronto"
       },
       {
        "channel": {
         "channel_name": "Canal+ Sport",
         "channel_number": "42"
        },
        "duration_hours": "2",
        "duration_minutes": "38",
        "is_broadcast_new": false,
        "startBroadcasting": "22h21",
        "subtitle": "Open de Nicholasville. 3e tour. Circuit américain.",
        "title": "Golf : Open de Nicholasville"
       },
       {
        "channel": {
         "channel_name": "Canal+ Cinéma",
         "channel_number": "43"
        },
        "duration_hours": "1",
        "duration_minutes": "44",
        "is_broadcast_new": false,
        "startBroadcasting": "20h58",
        "subtitle": null,
        "title": "Un talent en or massif"
       },
       {
        "channel": {
         "channel_name": "Canal+ Cinéma",
         "channel_number": "43"
        },
        "duration_hours": "1",
        "duration_minutes": "41",
        "is_broadcast_new": false,
        "startBroadcasting": "22h42",
        "subtitle": null,
        "title": "Ticket to Paradise"
       },
       {
        "channel": {
         "channel_name": "Planète+",
         "channel_number": "45"
        },
        "duration_hours": "0",
        "duration_minutes": "44",
        "is_broadcast_new": false,
        "startBroadcasting": "20h55",
        "subtitle": "Return of the Impala",
        "title": "American Pickers, la brocante made in USA"
       },
       {
        "channel": {
         "channel_name": "Planète+",
         "channel_number": "45"
        },
        "duration_hours": "0",
        "duration_minutes": "46",
        "is_broadcast_new": false,
        "startBroadcasting": "22h25",
        "subtitle": "Hollywood in Texas",
        "title": "American Pickers, la brocante made in USA"
       }
      ]
     },
     "metadata": {},
     "output_type": "display_data"
    }
   ],
   "source": [
    "@dataclass\n",
    "class Program:\n",
    "    startBroadcasting: str\n",
    "    title: str\n",
    "    subtitle: str\n",
    "    duration_hours: str\n",
    "    duration_minutes: str\n",
    "    is_broadcast_new: bool\n",
    "    channel: Channel\n",
    "\n",
    "programs = []\n",
    "\n",
    "channel_counter = 0\n",
    "for programme in TVGRID_RAW_BLOCKS:\n",
    "    startBroadcasting = programme.select_one('.mainBroadcastCard-startingHour')\n",
    "    if startBroadcasting:\n",
    "        startBroadcasting = startBroadcasting.text.strip()\n",
    "\n",
    "    title = programme.select_one('.mainBroadcastCard-title')\n",
    "    if title:\n",
    "        title = title.text.strip()\n",
    "\n",
    "    subtitle = programme.select_one('.mainBroadcastCard-subtitle')\n",
    "    if subtitle:\n",
    "        subtitle = subtitle.text.strip()\n",
    "\n",
    "    duration = programme.select_one('.mainBroadcastCard-durationContent')\n",
    "    if duration:\n",
    "        duration = duration.text.strip()\n",
    "        duration = duration.replace('min', '')\n",
    "        if (duration.count('h')):\n",
    "            duration_hours = duration.split('h')[0]\n",
    "            if duration.split('h')[1]:\n",
    "                duration_minutes = duration.split('h')[1]\n",
    "            else:\n",
    "                duration_minutes = '0'\n",
    "        else:\n",
    "            duration_hours = '0'\n",
    "            duration_minutes = duration\n",
    "    \n",
    "    broadcast_new = programme.select_one('.mainBroadcastCard-new')\n",
    "    if broadcast_new:\n",
    "        broadcast_new = broadcast_new.text.strip()\n",
    "        if broadcast_new == 'Inédit':\n",
    "            is_broadcast_new = True\n",
    "        else:\n",
    "            is_broadcast_new = False\n",
    "    else:\n",
    "        is_broadcast_new = False\n",
    "\n",
    "    programs.append(Program(startBroadcasting=startBroadcasting,\n",
    "                            title=title,\n",
    "                            subtitle=subtitle,\n",
    "                            duration_hours=duration_hours,\n",
    "                            duration_minutes=duration_minutes,\n",
    "                            is_broadcast_new=is_broadcast_new,\n",
    "                            channel=channels[int(channel_counter)]))\n",
    "    channel_counter += 0.5\n",
    "\n",
    "dump = json_dumps(programs, default=lambda o: o.__dict__, ensure_ascii=False)\n",
    "display_json(dump, raw=True)"
   ]
  },
  {
   "cell_type": "markdown",
   "metadata": {},
   "source": [
    "## Render data as HTML"
   ]
  },
  {
   "cell_type": "code",
   "execution_count": 91,
   "metadata": {},
   "outputs": [
    {
     "data": {
      "text/html": [
       "<h1>Les programmes de ce soir</h1>\n",
       "<style>\n",
       ".card_broadcast {\n",
       "background-color: lightgrey;\n",
       "}\n",
       ".card_program_odd {\n",
       "background-color: lightgreen;\n",
       "}\n",
       ".card_program_even {\n",
       "background-color: lightblue;\n",
       "}\n",
       ".broadcast_start {\n",
       "font-weight: bold;\n",
       "}\n",
       ".duration {\n",
       "font-weight: bold;\n",
       "}\n",
       ".first_broadcast {\n",
       "display: flex;\n",
       "font-weight: bold;\n",
       "font-size: large;\n",
       "text-transform: uppercase;\n",
       "justify-content: flex-end;\n",
       "}\n",
       "</style>\n",
       "<div class=\"card_broadcast\"><h2>TF1 (TNT 1)</h2><div class=\"card_program_odd\"><h3>30 ans d'émissions cultes</h3><h4>La saga des jeux TV</h4><p>Départ <span class=\"broadcast_start\">21h10</span>, durée <span class=\"duration\">2h30</span></p><p class=\"first_broadcast\">inédit</p></div><div class=\"card_program_even\"><h3>30 ans d'émissions cultes</h3><h4>Les plus grands fous rires de la télé</h4><p>Départ <span class=\"broadcast_start\">23h40</span>, durée <span class=\"duration\">2h10</span></p></div></div><div class=\"card_broadcast\"><h2>France 2 (TNT 2)</h2><div class=\"card_program_odd\"><h3>Fort Boyard</h3><p>Départ <span class=\"broadcast_start\">21h10</span>, durée <span class=\"duration\">2h10</span></p><p class=\"first_broadcast\">inédit</p></div><div class=\"card_program_even\"><h3>Fort Boyard : toujours plus fort !</h3><p>Départ <span class=\"broadcast_start\">23h20</span>, durée <span class=\"duration\">0h59</span></p></div></div><div class=\"card_broadcast\"><h2>France 3 (TNT 3)</h2><div class=\"card_program_odd\"><h3>Police de caractères</h3><h4>Un loup dans la bergerie</h4><p>Départ <span class=\"broadcast_start\">21h10</span>, durée <span class=\"duration\">1h35</span></p></div><div class=\"card_program_even\"><h3>Meurtres à...</h3><h4>Meurtres à Blois</h4><p>Départ <span class=\"broadcast_start\">22h45</span>, durée <span class=\"duration\">1h35</span></p></div></div><div class=\"card_broadcast\"><h2>Canal+ (TNT 4)</h2><div class=\"card_program_odd\"><h3>Maestro(s)</h3><p>Départ <span class=\"broadcast_start\">21h05</span>, durée <span class=\"duration\">1h26</span></p></div><div class=\"card_program_even\"><h3>Le Parfum vert</h3><p>Départ <span class=\"broadcast_start\">22h31</span>, durée <span class=\"duration\">1h39</span></p></div></div><div class=\"card_broadcast\"><h2>France 5 (TNT 5)</h2><div class=\"card_program_odd\"><h3>Echappées belles</h3><h4>Sur les sentiers varois</h4><p>Départ <span class=\"broadcast_start\">21h00</span>, durée <span class=\"duration\">1h35</span></p></div><div class=\"card_program_even\"><h3>Echappées belles</h3><h4>Spéciale Martinique gourmande</h4><p>Départ <span class=\"broadcast_start\">22h35</span>, durée <span class=\"duration\">1h30</span></p></div></div><div class=\"card_broadcast\"><h2>M6 (TNT 6)</h2><div class=\"card_program_odd\"><h3>NCIS</h3><h4>Echange de prisonniers</h4><p>Départ <span class=\"broadcast_start\">21h10</span>, durée <span class=\"duration\">0h45</span></p><p class=\"first_broadcast\">inédit</p></div><div class=\"card_program_even\"><h3>NCIS</h3><h4>Croisière d'enfer</h4><p>Départ <span class=\"broadcast_start\">21h55</span>, durée <span class=\"duration\">0h55</span></p></div></div><div class=\"card_broadcast\"><h2>Arte (TNT 7)</h2><div class=\"card_program_odd\"><h3>Serengeti, la grande cavalcade des animaux</h3><h4>Luttes de pouvoir</h4><p>Départ <span class=\"broadcast_start\">20h50</span>, durée <span class=\"duration\">0h45</span></p><p class=\"first_broadcast\">inédit</p></div><div class=\"card_program_even\"><h3>Secrets de chats</h3><p>Départ <span class=\"broadcast_start\">23h05</span>, durée <span class=\"duration\">0h55</span></p></div></div><div class=\"card_broadcast\"><h2>C8 (TNT 8)</h2><div class=\"card_program_odd\"><h3>Compromis</h3><p>Départ <span class=\"broadcast_start\">21h10</span>, durée <span class=\"duration\">1h42</span></p></div><div class=\"card_program_even\"><h3>Amis</h3><p>Départ <span class=\"broadcast_start\">22h52</span>, durée <span class=\"duration\">1h35</span></p></div></div><div class=\"card_broadcast\"><h2>W9 (TNT 9)</h2><div class=\"card_program_odd\"><h3>La petite histoire de France</h3><p>Départ <span class=\"broadcast_start\">21h05</span>, durée <span class=\"duration\">1h55</span></p></div><div class=\"card_program_even\"><h3>La petite histoire de France</h3><p>Départ <span class=\"broadcast_start\">23h00</span>, durée <span class=\"duration\">1h45</span></p></div></div><div class=\"card_broadcast\"><h2>TMC (TNT 10)</h2><div class=\"card_program_odd\"><h3>Columbo</h3><h4>Une ville fatale</h4><p>Départ <span class=\"broadcast_start\">20h55</span>, durée <span class=\"duration\">1h30</span></p></div><div class=\"card_program_even\"><h3>Le transporteur : l'héritage</h3><p>Départ <span class=\"broadcast_start\">22h25</span>, durée <span class=\"duration\">1h50</span></p></div></div><div class=\"card_broadcast\"><h2>TFX (TNT 11)</h2><div class=\"card_program_odd\"><h3>Chroniques criminelles</h3><p>Départ <span class=\"broadcast_start\">21h05</span>, durée <span class=\"duration\">1h45</span></p></div><div class=\"card_program_even\"><h3>Chroniques criminelles</h3><p>Départ <span class=\"broadcast_start\">22h50</span>, durée <span class=\"duration\">1h55</span></p></div></div><div class=\"card_broadcast\"><h2>NRJ 12 (TNT 12)</h2><div class=\"card_program_odd\"><h3>Big Bang Theory</h3><h4>La Conjecture du Batbocal</h4><p>Départ <span class=\"broadcast_start\">21h10</span>, durée <span class=\"duration\">0h30</span></p></div><div class=\"card_program_even\"><h3>Big Bang Theory</h3><h4>Réaction !</h4><p>Départ <span class=\"broadcast_start\">22h30</span>, durée <span class=\"duration\">0h30</span></p></div></div><div class=\"card_broadcast\"><h2>La Chaîne parlementaire (TNT 13)</h2><div class=\"card_program_odd\"><h3>L'odyssée des plages</h3><p>Départ <span class=\"broadcast_start\">21h00</span>, durée <span class=\"duration\">1h58</span></p></div><div class=\"card_program_even\"><h3>Corée du Nord, un plan pour survivre</h3><p>Départ <span class=\"broadcast_start\">22h58</span>, durée <span class=\"duration\">1h32</span></p></div></div><div class=\"card_broadcast\"><h2>France 4 (TNT 14)</h2><div class=\"card_program_odd\"><h3>Le Requiem de Verdi</h3><p>Départ <span class=\"broadcast_start\">21h10</span>, durée <span class=\"duration\">1h35</span></p></div><div class=\"card_program_even\"><h3>Carmina Burana</h3><p>Départ <span class=\"broadcast_start\">22h45</span>, durée <span class=\"duration\">1h09</span></p></div></div><div class=\"card_broadcast\"><h2>BFMTV (TNT 15)</h2><div class=\"card_program_odd\"><h3>7 Jours BFM</h3><p>Départ <span class=\"broadcast_start\">20h00</span>, durée <span class=\"duration\">2h0</span></p></div><div class=\"card_program_even\"><h3>Week-end Direct</h3><p>Départ <span class=\"broadcast_start\">22h00</span>, durée <span class=\"duration\">2h0</span></p></div></div><div class=\"card_broadcast\"><h2>CNEWS (TNT 16)</h2><div class=\"card_program_odd\"><h3>Soir Info</h3><h4>Soir Info</h4><p>Départ <span class=\"broadcast_start\">20h59</span>, durée <span class=\"duration\">2h28</span></p></div><div class=\"card_program_even\"><h3>Journal</h3><p>Départ <span class=\"broadcast_start\">23h29</span>, durée <span class=\"duration\">0h28</span></p></div></div><div class=\"card_broadcast\"><h2>CSTAR (TNT 17)</h2><div class=\"card_program_odd\"><h3>Enquêtes paranormales</h3><h4>Episode 20</h4><p>Départ <span class=\"broadcast_start\">21h10</span>, durée <span class=\"duration\">1h35</span></p></div><div class=\"card_program_even\"><h3>Enquêtes paranormales</h3><h4>Episode 16</h4><p>Départ <span class=\"broadcast_start\">22h45</span>, durée <span class=\"duration\">1h25</span></p></div></div><div class=\"card_broadcast\"><h2>Gulli (TNT 18)</h2><div class=\"card_program_odd\"><h3>Total Wipeout Made In USA</h3><h4>Vers de terre et bubble tea</h4><p>Départ <span class=\"broadcast_start\">21h05</span>, durée <span class=\"duration\">0h55</span></p></div><div class=\"card_program_even\"><h3>Total Wipeout Made In USA</h3><h4>Ouvrez le dico !</h4><p>Départ <span class=\"broadcast_start\">22h00</span>, durée <span class=\"duration\">0h50</span></p></div></div><div class=\"card_broadcast\"><h2>TF1 Séries Films (TNT 20)</h2><div class=\"card_program_odd\"><h3>Joséphine, ange gardien</h3><h4>Joséphine fait de la résistance</h4><p>Départ <span class=\"broadcast_start\">21h00</span>, durée <span class=\"duration\">2h05</span></p></div><div class=\"card_program_even\"><h3>Joséphine, ange gardien</h3><h4>Suivez le guide</h4><p>Départ <span class=\"broadcast_start\">23h05</span>, durée <span class=\"duration\">2h0</span></p></div></div><div class=\"card_broadcast\"><h2>L'Equipe (TNT 21)</h2><div class=\"card_program_odd\"><h3>Para-athlétisme : Championnats du monde</h3><h4>Championnats du monde. 7e jour.</h4><p>Départ <span class=\"broadcast_start\">18h05</span>, durée <span class=\"duration\">3h30</span></p></div><div class=\"card_program_even\"><h3>Monster Jam</h3><h4>5e à 8e manches.</h4><p>Départ <span class=\"broadcast_start\">21h35</span>, durée <span class=\"duration\">1h50</span></p></div></div><div class=\"card_broadcast\"><h2>6ter (TNT 22)</h2><div class=\"card_program_odd\"><h3>Vive le camping</h3><h4>Porto : au cœur du camping le moins cher de Corse !</h4><p>Départ <span class=\"broadcast_start\">21h05</span>, durée <span class=\"duration\">2h15</span></p></div><div class=\"card_program_even\"><h3>Vive le camping</h3><h4>Chez les Ch'tis</h4><p>Départ <span class=\"broadcast_start\">23h20</span>, durée <span class=\"duration\">2h0</span></p></div></div><div class=\"card_broadcast\"><h2>RMC Story (TNT 23)</h2><div class=\"card_program_odd\"><h3>Retour à l'instinct primaire</h3><h4>Piqués par la jungle</h4><p>Départ <span class=\"broadcast_start\">21h10</span>, durée <span class=\"duration\">0h55</span></p></div><div class=\"card_program_even\"><h3>Retour à l'instinct primaire</h3><h4>Coup de chaleur au Mexique</h4><p>Départ <span class=\"broadcast_start\">22h05</span>, durée <span class=\"duration\">0h55</span></p></div></div><div class=\"card_broadcast\"><h2>RMC Découverte (TNT 24)</h2><div class=\"card_program_odd\"><h3>Europapark : la techno des manèges à sensation</h3><p>Départ <span class=\"broadcast_start\">21h10</span>, durée <span class=\"duration\">0h57</span></p></div><div class=\"card_program_even\"><h3>Roller Coaster : une technologie à sensations</h3><p>Départ <span class=\"broadcast_start\">22h07</span>, durée <span class=\"duration\">0h56</span></p></div></div><div class=\"card_broadcast\"><h2>Chérie 25 (TNT 25)</h2><div class=\"card_program_odd\"><h3>Jeanne Poisson, marquise de Pompadour</h3><p>Départ <span class=\"broadcast_start\">21h05</span>, durée <span class=\"duration\">1h55</span></p></div><div class=\"card_program_even\"><h3>Héritages</h3><h4>Spéciale Saint-Valentin : de l'amour à la guerre</h4><p>Départ <span class=\"broadcast_start\">23h00</span>, durée <span class=\"duration\">1h40</span></p></div></div><div class=\"card_broadcast\"><h2>LCI - La Chaîne Info (TNT 26)</h2><div class=\"card_program_odd\"><h3>Le 20H Darius Rochebin</h3><p>Départ <span class=\"broadcast_start\">20h00</span>, durée <span class=\"duration\">2h0</span></p></div><div class=\"card_program_even\"><h3>22H Darius Rochebin</h3><p>Départ <span class=\"broadcast_start\">22h00</span>, durée <span class=\"duration\">2h0</span></p></div></div><div class=\"card_broadcast\"><h2>Franceinfo (TNT 27)</h2><div class=\"card_program_odd\"><h3>Le doc de l'info</h3><p>Départ <span class=\"broadcast_start\">20h03</span>, durée <span class=\"duration\">0h26</span></p></div><div class=\"card_program_even\"><h3>Tour de France 2023</h3><p>Départ <span class=\"broadcast_start\">20h35</span>, durée <span class=\"duration\">0h12</span></p></div></div><div class=\"card_broadcast\"><h2>Paris Première (TNT 41)</h2><div class=\"card_program_odd\"><h3>Michaël Gregorio : j'ai 10 ans</h3><p>Départ <span class=\"broadcast_start\">21h00</span>, durée <span class=\"duration\">2h10</span></p></div><div class=\"card_program_even\"><h3>Michaël Gregorio pirate les chanteurs</h3><p>Départ <span class=\"broadcast_start\">23h10</span>, durée <span class=\"duration\">2h05</span></p></div></div><div class=\"card_broadcast\"><h2>Canal+ Sport (TNT 42)</h2><div class=\"card_program_odd\"><h3>IndyCar Series : Grand Prix de Toronto</h3><h4>Grand Prix de Toronto. Essais qualificatifs. IndyCar Series.</h4><p>Départ <span class=\"broadcast_start\">20h45</span>, durée <span class=\"duration\">1h36</span></p></div><div class=\"card_program_even\"><h3>Golf : Open de Nicholasville</h3><h4>Open de Nicholasville. 3e tour. Circuit américain.</h4><p>Départ <span class=\"broadcast_start\">22h21</span>, durée <span class=\"duration\">2h38</span></p></div></div><div class=\"card_broadcast\"><h2>Canal+ Cinéma (TNT 43)</h2><div class=\"card_program_odd\"><h3>Un talent en or massif</h3><p>Départ <span class=\"broadcast_start\">20h58</span>, durée <span class=\"duration\">1h44</span></p></div><div class=\"card_program_even\"><h3>Ticket to Paradise</h3><p>Départ <span class=\"broadcast_start\">22h42</span>, durée <span class=\"duration\">1h41</span></p></div></div><div class=\"card_broadcast\"><h2>Planète+ (TNT 45)</h2><div class=\"card_program_odd\"><h3>American Pickers, la brocante made in USA</h3><h4>Return of the Impala</h4><p>Départ <span class=\"broadcast_start\">20h55</span>, durée <span class=\"duration\">0h44</span></p></div><div class=\"card_program_even\"><h3>American Pickers, la brocante made in USA</h3><h4>Hollywood in Texas</h4><p>Départ <span class=\"broadcast_start\">22h25</span>, durée <span class=\"duration\">0h46</span></p></div></div>"
      ]
     },
     "metadata": {},
     "output_type": "display_data"
    }
   ],
   "source": [
    "raw_html = '''<h1>Les programmes de ce soir</h1>\n",
    "<style>\n",
    ".card_broadcast {\n",
    "background-color: lightgrey;\n",
    "}\n",
    ".card_program_odd {\n",
    "background-color: lightgreen;\n",
    "}\n",
    ".card_program_even {\n",
    "background-color: lightblue;\n",
    "}\n",
    ".broadcast_start {\n",
    "font-weight: bold;\n",
    "}\n",
    ".duration {\n",
    "font-weight: bold;\n",
    "}\n",
    ".first_broadcast {\n",
    "display: flex;\n",
    "font-weight: bold;\n",
    "font-size: large;\n",
    "text-transform: uppercase;\n",
    "justify-content: flex-end;\n",
    "}\n",
    "</style>\n",
    "'''\n",
    "odd_line = True\n",
    "for program in programs:\n",
    "    if odd_line:\n",
    "        raw_html = raw_html + f'<div class=\"card_broadcast\"><h2>{program.channel.channel_name} (TNT {program.channel.channel_number})</h2>'\n",
    "    \n",
    "    if odd_line:\n",
    "        raw_html = raw_html + f'<div class=\"card_program_odd\">'\n",
    "    else:\n",
    "        raw_html = raw_html + f'<div class=\"card_program_even\">'\n",
    "\n",
    "    raw_html = raw_html + f'<h3>{program.title}</h3>'\n",
    "\n",
    "    if program.subtitle:\n",
    "        raw_html = raw_html + f'<h4>{program.subtitle}</h4>'\n",
    "    \n",
    "    raw_html = raw_html + f'<p>Départ <span class=\"broadcast_start\">{program.startBroadcasting}</span>, durée <span class=\"duration\">{program.duration_hours}h{program.duration_minutes}</span></p>'\n",
    "    \n",
    "    if program.is_broadcast_new:\n",
    "        raw_html = raw_html + '<p class=\"first_broadcast\">inédit</p>'\n",
    "    raw_html = raw_html + f'</div>'\n",
    "\n",
    "    if not odd_line:\n",
    "        raw_html = raw_html + f'</div>'\n",
    "    odd_line = not odd_line\n",
    "\n",
    "display_html(raw_html, raw=True)"
   ]
  }
 ],
 "metadata": {
  "kernelspec": {
   "display_name": "Python 3",
   "language": "python",
   "name": "python3"
  },
  "language_info": {
   "codemirror_mode": {
    "name": "ipython",
    "version": 3
   },
   "file_extension": ".py",
   "mimetype": "text/x-python",
   "name": "python",
   "nbconvert_exporter": "python",
   "pygments_lexer": "ipython3",
   "version": "3.11.4"
  },
  "orig_nbformat": 4
 },
 "nbformat": 4,
 "nbformat_minor": 2
}
