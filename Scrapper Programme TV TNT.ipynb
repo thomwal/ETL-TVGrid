{
 "cells": [
  {
   "cell_type": "markdown",
   "metadata": {},
   "source": [
    "# TV Grid Scrapper\n",
    "Python Version 3.11.4  \n",
    "`pip install requests bs4`"
   ]
  },
  {
   "cell_type": "code",
   "execution_count": 23,
   "metadata": {},
   "outputs": [],
   "source": [
    "from requests import get as get_url\n",
    "from bs4 import BeautifulSoup\n",
    "from dataclasses import dataclass\n",
    "from json import dumps as json_dumps\n",
    "from IPython.core.display import display_json\n",
    "\n",
    "CAPTURE_URL = 'https://www.programme-tv.net/programme/programme-tnt.html'"
   ]
  },
  {
   "cell_type": "code",
   "execution_count": 24,
   "metadata": {},
   "outputs": [],
   "source": [
    "TVGRID_PAGE = get_url(CAPTURE_URL)\n",
    "soup = BeautifulSoup(TVGRID_PAGE.content, 'html.parser')\n",
    "TVGRID_RAW_BLOCKS = soup.select('.mainBroadcastCard-infos')"
   ]
  },
  {
   "cell_type": "code",
   "execution_count": 25,
   "metadata": {},
   "outputs": [],
   "source": [
    "@dataclass\n",
    "class Channel:\n",
    "    channel_number: str\n",
    "    channel_name: str\n",
    "\n",
    "channels = []\n",
    "\n",
    "for channel in soup.select('.gridRow-cardsChannelName'):\n",
    "    channel_number = channel.select_one('.sr-only').text.strip().replace('N°', '') # Numéro de la chaine\n",
    "    channel_name = channel.text.strip().replace(f'N°{channel_number}', '') # Description de la chaîne\n",
    "    channels.append(Channel(channel_number=channel_number, channel_name=channel_name))"
   ]
  },
  {
   "cell_type": "code",
   "execution_count": 27,
   "metadata": {},
   "outputs": [
    {
     "data": {
      "application/json": [
       {
        "channel": {
         "channel_name": "TF1",
         "channel_number": "1"
        },
        "duration_hours": "2",
        "duration_minutes": "30",
        "is_broadcast_new": true,
        "startBroadcasting": "21h10",
        "subtitle": "La saga des jeux TV",
        "title": "30 ans d'émissions cultes"
       },
       {
        "channel": {
         "channel_name": "TF1",
         "channel_number": "1"
        },
        "duration_hours": "2",
        "duration_minutes": "10",
        "is_broadcast_new": false,
        "startBroadcasting": "23h40",
        "subtitle": "Les plus grands fous rires de la télé",
        "title": "30 ans d'émissions cultes"
       },
       {
        "channel": {
         "channel_name": "France 2",
         "channel_number": "2"
        },
        "duration_hours": "2",
        "duration_minutes": "10",
        "is_broadcast_new": true,
        "startBroadcasting": "21h10",
        "subtitle": null,
        "title": "Fort Boyard"
       },
       {
        "channel": {
         "channel_name": "France 2",
         "channel_number": "2"
        },
        "duration_hours": "0",
        "duration_minutes": "59",
        "is_broadcast_new": false,
        "startBroadcasting": "23h20",
        "subtitle": null,
        "title": "Fort Boyard : toujours plus fort !"
       },
       {
        "channel": {
         "channel_name": "France 3",
         "channel_number": "3"
        },
        "duration_hours": "1",
        "duration_minutes": "35",
        "is_broadcast_new": false,
        "startBroadcasting": "21h10",
        "subtitle": "Un loup dans la bergerie",
        "title": "Police de caractères"
       },
       {
        "channel": {
         "channel_name": "France 3",
         "channel_number": "3"
        },
        "duration_hours": "1",
        "duration_minutes": "35",
        "is_broadcast_new": false,
        "startBroadcasting": "22h45",
        "subtitle": "Meurtres à Blois",
        "title": "Meurtres à..."
       },
       {
        "channel": {
         "channel_name": "Canal+",
         "channel_number": "4"
        },
        "duration_hours": "1",
        "duration_minutes": "26",
        "is_broadcast_new": false,
        "startBroadcasting": "21h05",
        "subtitle": null,
        "title": "Maestro(s)"
       },
       {
        "channel": {
         "channel_name": "Canal+",
         "channel_number": "4"
        },
        "duration_hours": "1",
        "duration_minutes": "39",
        "is_broadcast_new": false,
        "startBroadcasting": "22h31",
        "subtitle": null,
        "title": "Le Parfum vert"
       },
       {
        "channel": {
         "channel_name": "France 5",
         "channel_number": "5"
        },
        "duration_hours": "1",
        "duration_minutes": "35",
        "is_broadcast_new": false,
        "startBroadcasting": "21h00",
        "subtitle": "Sur les sentiers varois",
        "title": "Echappées belles"
       },
       {
        "channel": {
         "channel_name": "France 5",
         "channel_number": "5"
        },
        "duration_hours": "1",
        "duration_minutes": "30",
        "is_broadcast_new": false,
        "startBroadcasting": "22h35",
        "subtitle": "Spéciale Martinique gourmande",
        "title": "Echappées belles"
       },
       {
        "channel": {
         "channel_name": "M6",
         "channel_number": "6"
        },
        "duration_hours": "0",
        "duration_minutes": "45",
        "is_broadcast_new": true,
        "startBroadcasting": "21h10",
        "subtitle": "Echange de prisonniers",
        "title": "NCIS"
       },
       {
        "channel": {
         "channel_name": "M6",
         "channel_number": "6"
        },
        "duration_hours": "0",
        "duration_minutes": "55",
        "is_broadcast_new": false,
        "startBroadcasting": "21h55",
        "subtitle": "Croisière d'enfer",
        "title": "NCIS"
       },
       {
        "channel": {
         "channel_name": "Arte",
         "channel_number": "7"
        },
        "duration_hours": "0",
        "duration_minutes": "45",
        "is_broadcast_new": true,
        "startBroadcasting": "20h50",
        "subtitle": "Luttes de pouvoir",
        "title": "Serengeti, la grande cavalcade des animaux"
       },
       {
        "channel": {
         "channel_name": "Arte",
         "channel_number": "7"
        },
        "duration_hours": "0",
        "duration_minutes": "55",
        "is_broadcast_new": false,
        "startBroadcasting": "23h05",
        "subtitle": null,
        "title": "Secrets de chats"
       },
       {
        "channel": {
         "channel_name": "C8",
         "channel_number": "8"
        },
        "duration_hours": "1",
        "duration_minutes": "42",
        "is_broadcast_new": false,
        "startBroadcasting": "21h10",
        "subtitle": null,
        "title": "Compromis"
       },
       {
        "channel": {
         "channel_name": "C8",
         "channel_number": "8"
        },
        "duration_hours": "1",
        "duration_minutes": "35",
        "is_broadcast_new": false,
        "startBroadcasting": "22h52",
        "subtitle": null,
        "title": "Amis"
       },
       {
        "channel": {
         "channel_name": "W9",
         "channel_number": "9"
        },
        "duration_hours": "1",
        "duration_minutes": "55",
        "is_broadcast_new": false,
        "startBroadcasting": "21h05",
        "subtitle": null,
        "title": "La petite histoire de France"
       },
       {
        "channel": {
         "channel_name": "W9",
         "channel_number": "9"
        },
        "duration_hours": "1",
        "duration_minutes": "45",
        "is_broadcast_new": false,
        "startBroadcasting": "23h00",
        "subtitle": null,
        "title": "La petite histoire de France"
       },
       {
        "channel": {
         "channel_name": "TMC",
         "channel_number": "10"
        },
        "duration_hours": "1",
        "duration_minutes": "30",
        "is_broadcast_new": false,
        "startBroadcasting": "20h55",
        "subtitle": "Une ville fatale",
        "title": "Columbo"
       },
       {
        "channel": {
         "channel_name": "TMC",
         "channel_number": "10"
        },
        "duration_hours": "1",
        "duration_minutes": "50",
        "is_broadcast_new": false,
        "startBroadcasting": "22h25",
        "subtitle": null,
        "title": "Le transporteur : l'héritage"
       },
       {
        "channel": {
         "channel_name": "TFX",
         "channel_number": "11"
        },
        "duration_hours": "1",
        "duration_minutes": "45",
        "is_broadcast_new": false,
        "startBroadcasting": "21h05",
        "subtitle": null,
        "title": "Chroniques criminelles"
       },
       {
        "channel": {
         "channel_name": "TFX",
         "channel_number": "11"
        },
        "duration_hours": "1",
        "duration_minutes": "55",
        "is_broadcast_new": false,
        "startBroadcasting": "22h50",
        "subtitle": null,
        "title": "Chroniques criminelles"
       },
       {
        "channel": {
         "channel_name": "NRJ 12",
         "channel_number": "12"
        },
        "duration_hours": "0",
        "duration_minutes": "30",
        "is_broadcast_new": false,
        "startBroadcasting": "21h10",
        "subtitle": "La Conjecture du Batbocal",
        "title": "Big Bang Theory"
       },
       {
        "channel": {
         "channel_name": "NRJ 12",
         "channel_number": "12"
        },
        "duration_hours": "0",
        "duration_minutes": "30",
        "is_broadcast_new": false,
        "startBroadcasting": "22h30",
        "subtitle": "Réaction !",
        "title": "Big Bang Theory"
       },
       {
        "channel": {
         "channel_name": "La Chaîne parlementaire",
         "channel_number": "13"
        },
        "duration_hours": "1",
        "duration_minutes": "58",
        "is_broadcast_new": false,
        "startBroadcasting": "21h00",
        "subtitle": null,
        "title": "L'odyssée des plages"
       },
       {
        "channel": {
         "channel_name": "La Chaîne parlementaire",
         "channel_number": "13"
        },
        "duration_hours": "1",
        "duration_minutes": "32",
        "is_broadcast_new": false,
        "startBroadcasting": "22h58",
        "subtitle": null,
        "title": "Corée du Nord, un plan pour survivre"
       },
       {
        "channel": {
         "channel_name": "France 4",
         "channel_number": "14"
        },
        "duration_hours": "1",
        "duration_minutes": "35",
        "is_broadcast_new": false,
        "startBroadcasting": "21h10",
        "subtitle": null,
        "title": "Le Requiem de Verdi"
       },
       {
        "channel": {
         "channel_name": "France 4",
         "channel_number": "14"
        },
        "duration_hours": "1",
        "duration_minutes": "09",
        "is_broadcast_new": false,
        "startBroadcasting": "22h45",
        "subtitle": null,
        "title": "Carmina Burana"
       },
       {
        "channel": {
         "channel_name": "BFMTV",
         "channel_number": "15"
        },
        "duration_hours": "2",
        "duration_minutes": "0",
        "is_broadcast_new": false,
        "startBroadcasting": "20h00",
        "subtitle": null,
        "title": "7 Jours BFM"
       },
       {
        "channel": {
         "channel_name": "BFMTV",
         "channel_number": "15"
        },
        "duration_hours": "2",
        "duration_minutes": "0",
        "is_broadcast_new": false,
        "startBroadcasting": "22h00",
        "subtitle": null,
        "title": "Week-end Direct"
       },
       {
        "channel": {
         "channel_name": "CNEWS",
         "channel_number": "16"
        },
        "duration_hours": "2",
        "duration_minutes": "28",
        "is_broadcast_new": false,
        "startBroadcasting": "20h59",
        "subtitle": "Soir Info",
        "title": "Soir Info"
       },
       {
        "channel": {
         "channel_name": "CNEWS",
         "channel_number": "16"
        },
        "duration_hours": "0",
        "duration_minutes": "28",
        "is_broadcast_new": false,
        "startBroadcasting": "23h29",
        "subtitle": null,
        "title": "Journal"
       },
       {
        "channel": {
         "channel_name": "CSTAR",
         "channel_number": "17"
        },
        "duration_hours": "1",
        "duration_minutes": "35",
        "is_broadcast_new": false,
        "startBroadcasting": "21h10",
        "subtitle": "Episode 20",
        "title": "Enquêtes paranormales"
       },
       {
        "channel": {
         "channel_name": "CSTAR",
         "channel_number": "17"
        },
        "duration_hours": "1",
        "duration_minutes": "25",
        "is_broadcast_new": false,
        "startBroadcasting": "22h45",
        "subtitle": "Episode 16",
        "title": "Enquêtes paranormales"
       },
       {
        "channel": {
         "channel_name": "Gulli",
         "channel_number": "18"
        },
        "duration_hours": "0",
        "duration_minutes": "55",
        "is_broadcast_new": false,
        "startBroadcasting": "21h05",
        "subtitle": "Vers de terre et bubble tea",
        "title": "Total Wipeout Made In USA"
       },
       {
        "channel": {
         "channel_name": "Gulli",
         "channel_number": "18"
        },
        "duration_hours": "0",
        "duration_minutes": "50",
        "is_broadcast_new": false,
        "startBroadcasting": "22h00",
        "subtitle": "Ouvrez le dico !",
        "title": "Total Wipeout Made In USA"
       },
       {
        "channel": {
         "channel_name": "TF1 Séries Films",
         "channel_number": "20"
        },
        "duration_hours": "2",
        "duration_minutes": "05",
        "is_broadcast_new": false,
        "startBroadcasting": "21h00",
        "subtitle": "Joséphine fait de la résistance",
        "title": "Joséphine, ange gardien"
       },
       {
        "channel": {
         "channel_name": "TF1 Séries Films",
         "channel_number": "20"
        },
        "duration_hours": "2",
        "duration_minutes": "0",
        "is_broadcast_new": false,
        "startBroadcasting": "23h05",
        "subtitle": "Suivez le guide",
        "title": "Joséphine, ange gardien"
       },
       {
        "channel": {
         "channel_name": "L'Equipe",
         "channel_number": "21"
        },
        "duration_hours": "3",
        "duration_minutes": "30",
        "is_broadcast_new": false,
        "startBroadcasting": "18h05",
        "subtitle": "Championnats du monde. 7e jour.",
        "title": "Para-athlétisme : Championnats du monde"
       },
       {
        "channel": {
         "channel_name": "L'Equipe",
         "channel_number": "21"
        },
        "duration_hours": "1",
        "duration_minutes": "50",
        "is_broadcast_new": false,
        "startBroadcasting": "21h35",
        "subtitle": "5e à 8e manches.",
        "title": "Monster Jam"
       },
       {
        "channel": {
         "channel_name": "6ter",
         "channel_number": "22"
        },
        "duration_hours": "2",
        "duration_minutes": "15",
        "is_broadcast_new": false,
        "startBroadcasting": "21h05",
        "subtitle": "Porto : au cœur du camping le moins cher de Corse !",
        "title": "Vive le camping"
       },
       {
        "channel": {
         "channel_name": "6ter",
         "channel_number": "22"
        },
        "duration_hours": "2",
        "duration_minutes": "0",
        "is_broadcast_new": false,
        "startBroadcasting": "23h20",
        "subtitle": "Chez les Ch'tis",
        "title": "Vive le camping"
       },
       {
        "channel": {
         "channel_name": "RMC Story",
         "channel_number": "23"
        },
        "duration_hours": "0",
        "duration_minutes": "55",
        "is_broadcast_new": false,
        "startBroadcasting": "21h10",
        "subtitle": "Piqués par la jungle",
        "title": "Retour à l'instinct primaire"
       },
       {
        "channel": {
         "channel_name": "RMC Story",
         "channel_number": "23"
        },
        "duration_hours": "0",
        "duration_minutes": "55",
        "is_broadcast_new": false,
        "startBroadcasting": "22h05",
        "subtitle": "Coup de chaleur au Mexique",
        "title": "Retour à l'instinct primaire"
       },
       {
        "channel": {
         "channel_name": "RMC Découverte",
         "channel_number": "24"
        },
        "duration_hours": "0",
        "duration_minutes": "57",
        "is_broadcast_new": false,
        "startBroadcasting": "21h10",
        "subtitle": null,
        "title": "Europapark : la techno des manèges à sensation"
       },
       {
        "channel": {
         "channel_name": "RMC Découverte",
         "channel_number": "24"
        },
        "duration_hours": "0",
        "duration_minutes": "56",
        "is_broadcast_new": false,
        "startBroadcasting": "22h07",
        "subtitle": null,
        "title": "Roller Coaster : une technologie à sensations"
       },
       {
        "channel": {
         "channel_name": "Chérie 25",
         "channel_number": "25"
        },
        "duration_hours": "1",
        "duration_minutes": "55",
        "is_broadcast_new": false,
        "startBroadcasting": "21h05",
        "subtitle": null,
        "title": "Jeanne Poisson, marquise de Pompadour"
       },
       {
        "channel": {
         "channel_name": "Chérie 25",
         "channel_number": "25"
        },
        "duration_hours": "1",
        "duration_minutes": "40",
        "is_broadcast_new": false,
        "startBroadcasting": "23h00",
        "subtitle": "Spéciale Saint-Valentin : de l'amour à la guerre",
        "title": "Héritages"
       },
       {
        "channel": {
         "channel_name": "LCI - La Chaîne Info",
         "channel_number": "26"
        },
        "duration_hours": "2",
        "duration_minutes": "0",
        "is_broadcast_new": false,
        "startBroadcasting": "20h00",
        "subtitle": null,
        "title": "Le 20H Darius Rochebin"
       },
       {
        "channel": {
         "channel_name": "LCI - La Chaîne Info",
         "channel_number": "26"
        },
        "duration_hours": "2",
        "duration_minutes": "0",
        "is_broadcast_new": false,
        "startBroadcasting": "22h00",
        "subtitle": null,
        "title": "22H Darius Rochebin"
       },
       {
        "channel": {
         "channel_name": "Franceinfo",
         "channel_number": "27"
        },
        "duration_hours": "0",
        "duration_minutes": "26",
        "is_broadcast_new": false,
        "startBroadcasting": "20h03",
        "subtitle": null,
        "title": "Le doc de l'info"
       },
       {
        "channel": {
         "channel_name": "Franceinfo",
         "channel_number": "27"
        },
        "duration_hours": "0",
        "duration_minutes": "12",
        "is_broadcast_new": false,
        "startBroadcasting": "20h35",
        "subtitle": null,
        "title": "Tour de France 2023"
       },
       {
        "channel": {
         "channel_name": "Paris Première",
         "channel_number": "41"
        },
        "duration_hours": "2",
        "duration_minutes": "10",
        "is_broadcast_new": false,
        "startBroadcasting": "21h00",
        "subtitle": null,
        "title": "Michaël Gregorio : j'ai 10 ans"
       },
       {
        "channel": {
         "channel_name": "Paris Première",
         "channel_number": "41"
        },
        "duration_hours": "2",
        "duration_minutes": "05",
        "is_broadcast_new": false,
        "startBroadcasting": "23h10",
        "subtitle": null,
        "title": "Michaël Gregorio pirate les chanteurs"
       },
       {
        "channel": {
         "channel_name": "Canal+ Sport",
         "channel_number": "42"
        },
        "duration_hours": "1",
        "duration_minutes": "36",
        "is_broadcast_new": false,
        "startBroadcasting": "20h45",
        "subtitle": "Grand Prix de Toronto. Essais qualificatifs. IndyCar Series.",
        "title": "IndyCar Series : Grand Prix de Toronto"
       },
       {
        "channel": {
         "channel_name": "Canal+ Sport",
         "channel_number": "42"
        },
        "duration_hours": "2",
        "duration_minutes": "38",
        "is_broadcast_new": false,
        "startBroadcasting": "22h21",
        "subtitle": "Open de Nicholasville. 3e tour. Circuit américain.",
        "title": "Golf : Open de Nicholasville"
       },
       {
        "channel": {
         "channel_name": "Canal+ Cinéma",
         "channel_number": "43"
        },
        "duration_hours": "1",
        "duration_minutes": "44",
        "is_broadcast_new": false,
        "startBroadcasting": "20h58",
        "subtitle": null,
        "title": "Un talent en or massif"
       },
       {
        "channel": {
         "channel_name": "Canal+ Cinéma",
         "channel_number": "43"
        },
        "duration_hours": "1",
        "duration_minutes": "41",
        "is_broadcast_new": false,
        "startBroadcasting": "22h42",
        "subtitle": null,
        "title": "Ticket to Paradise"
       },
       {
        "channel": {
         "channel_name": "Planète+",
         "channel_number": "45"
        },
        "duration_hours": "0",
        "duration_minutes": "44",
        "is_broadcast_new": false,
        "startBroadcasting": "20h55",
        "subtitle": "Return of the Impala",
        "title": "American Pickers, la brocante made in USA"
       },
       {
        "channel": {
         "channel_name": "Planète+",
         "channel_number": "45"
        },
        "duration_hours": "0",
        "duration_minutes": "46",
        "is_broadcast_new": false,
        "startBroadcasting": "22h25",
        "subtitle": "Hollywood in Texas",
        "title": "American Pickers, la brocante made in USA"
       }
      ]
     },
     "metadata": {},
     "output_type": "display_data"
    }
   ],
   "source": [
    "@dataclass\n",
    "class Program:\n",
    "    startBroadcasting: str\n",
    "    title: str\n",
    "    subtitle: str\n",
    "    duration_hours: str\n",
    "    duration_minutes: str\n",
    "    is_broadcast_new: bool\n",
    "    channel: Channel\n",
    "\n",
    "programs = []\n",
    "\n",
    "channel_counter = 0\n",
    "for programme in TVGRID_RAW_BLOCKS:\n",
    "    startBroadcasting = programme.select_one('.mainBroadcastCard-startingHour')\n",
    "    if startBroadcasting:\n",
    "        startBroadcasting = startBroadcasting.text.strip()\n",
    "\n",
    "    title = programme.select_one('.mainBroadcastCard-title')\n",
    "    if title:\n",
    "        title = title.text.strip()\n",
    "\n",
    "    subtitle = programme.select_one('.mainBroadcastCard-subtitle')\n",
    "    if subtitle:\n",
    "        subtitle = subtitle.text.strip()\n",
    "\n",
    "    duration = programme.select_one('.mainBroadcastCard-durationContent')\n",
    "    if duration:\n",
    "        duration = duration.text.strip()\n",
    "        duration = duration.replace('min', '')\n",
    "        if (duration.count('h')):\n",
    "            duration_hours = duration.split('h')[0]\n",
    "            if duration.split('h')[1]:\n",
    "                duration_minutes = duration.split('h')[1]\n",
    "            else:\n",
    "                duration_minutes = '0'\n",
    "        else:\n",
    "            duration_hours = '0'\n",
    "            duration_minutes = duration\n",
    "    \n",
    "    broadcast_new = programme.select_one('.mainBroadcastCard-new')\n",
    "    if broadcast_new:\n",
    "        broadcast_new = broadcast_new.text.strip()\n",
    "        if broadcast_new == 'Inédit':\n",
    "            is_broadcast_new = True\n",
    "        else:\n",
    "            is_broadcast_new = False\n",
    "    else:\n",
    "        is_broadcast_new = False\n",
    "\n",
    "    programs.append(Program(startBroadcasting=startBroadcasting,\n",
    "                            title=title,\n",
    "                            subtitle=subtitle,\n",
    "                            duration_hours=duration_hours,\n",
    "                            duration_minutes=duration_minutes,\n",
    "                            is_broadcast_new=is_broadcast_new,\n",
    "                            channel=channels[int(channel_counter)]))\n",
    "    channel_counter += 0.5\n",
    "\n",
    "dump = json_dumps(programs, default=lambda o: o.__dict__, ensure_ascii=False)\n",
    "display_json(dump, raw=True)"
   ]
  }
 ],
 "metadata": {
  "kernelspec": {
   "display_name": "Python 3",
   "language": "python",
   "name": "python3"
  },
  "language_info": {
   "codemirror_mode": {
    "name": "ipython",
    "version": 3
   },
   "file_extension": ".py",
   "mimetype": "text/x-python",
   "name": "python",
   "nbconvert_exporter": "python",
   "pygments_lexer": "ipython3",
   "version": "3.11.4"
  },
  "orig_nbformat": 4
 },
 "nbformat": 4,
 "nbformat_minor": 2
}
